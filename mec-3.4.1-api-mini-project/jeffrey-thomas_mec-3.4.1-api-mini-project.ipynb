{
 "cells": [
  {
   "cell_type": "markdown",
   "metadata": {},
   "source": [
    "This exercise will require you to pull some data from the Qunadl API. Qaundl is currently the most widely used aggregator of financial market data."
   ]
  },
  {
   "cell_type": "markdown",
   "metadata": {},
   "source": [
    "As a first step, you will need to register a free account on the http://www.quandl.com website."
   ]
  },
  {
   "cell_type": "markdown",
   "metadata": {},
   "source": [
    "After you register, you will be provided with a unique API key, that you should store:"
   ]
  },
  {
   "cell_type": "code",
   "execution_count": 1,
   "metadata": {
    "collapsed": true
   },
   "outputs": [],
   "source": [
    "# Store the API key as a string - according to PEP8, constants are always named in all upper case\n",
    "import math\n",
    "import Constants\n",
    "API_KEY = Constants.API_KEY"
   ]
  },
  {
   "cell_type": "markdown",
   "metadata": {},
   "source": [
    "Qaundl has a large number of data sources, but, unfortunately, most of them require a Premium subscription. Still, there are also a good number of free datasets."
   ]
  },
  {
   "cell_type": "markdown",
   "metadata": {},
   "source": [
    "For this mini project, we will focus on equities data from the Frankfurt Stock Exhange (FSE), which is available for free. We'll try and analyze the stock prices of a company called Carl Zeiss Meditec, which manufactures tools for eye examinations, as well as medical lasers for laser eye surgery: https://www.zeiss.com/meditec/int/home.html. The company is listed under the stock ticker AFX_X."
   ]
  },
  {
   "cell_type": "markdown",
   "metadata": {},
   "source": [
    "You can find the detailed Quandl API instructions here: https://docs.quandl.com/docs/time-series"
   ]
  },
  {
   "cell_type": "markdown",
   "metadata": {},
   "source": [
    "While there is a dedicated Python package for connecting to the Quandl API, we would prefer that you use the *requests* package, which can be easily downloaded using *pip* or *conda*. You can find the documentation for the package here: http://docs.python-requests.org/en/master/ "
   ]
  },
  {
   "cell_type": "markdown",
   "metadata": {},
   "source": [
    "Finally, apart from the *requests* package, you are encouraged to not use any third party Python packages, such as *pandas*, and instead focus on what's available in the Python Standard Library (the *collections* module might come in handy: https://pymotw.com/3/collections/).\n",
    "Also, since you won't have access to DataFrames, you are encouraged to us Python's native data structures - preferably dictionaries, though some questions can also be answered using lists.\n",
    "You can read more on these data structures here: https://docs.python.org/3/tutorial/datastructures.html"
   ]
  },
  {
   "cell_type": "markdown",
   "metadata": {},
   "source": [
    "Keep in mind that the JSON responses you will be getting from the API map almost one-to-one to Python's dictionaries. Unfortunately, they can be very nested, so make sure you read up on indexing dictionaries in the documentation provided above."
   ]
  },
  {
   "cell_type": "code",
   "execution_count": 7,
   "metadata": {
    "collapsed": true
   },
   "outputs": [],
   "source": [
    "# First, import the relevant modules\n",
    "import requests\n",
    "import json"
   ]
  },
  {
   "cell_type": "code",
   "execution_count": 5,
   "metadata": {
    "collapsed": true
   },
   "outputs": [
    {
     "name": "stdout",
     "output_type": "stream",
     "text": [
      "<Response [200]>\n"
     ]
    }
   ],
   "source": [
    "# Now, call the Quandl API and pull out a small sample of the data (only one day) to get a glimpse\n",
    "# into the JSON structure that will be returned\n",
    "url = 'https://data.nasdaq.com/api/v3/datasets/XFRA/SES/data.json?start_date=2017-01-01&end_date=2017-01-02&api_key=' + API_KEY\n",
    "r = requests.get(url)\n",
    "\n",
    "# Inspect the JSON structure of the object you created, and take note of how nested it is,\n",
    "# as well as the overall structure\n",
    "data = json.loads(r.text)"
   ]
  },
  {
   "cell_type": "markdown",
   "metadata": {},
   "source": [
    "These are your tasks for this mini project:\n",
    "\n",
    "1. Collect data from the Franfurt Stock Exchange, for the ticker AFX_X, for the whole year 2017 (keep in mind that the date format is YYYY-MM-DD).\n",
    "2. Convert the returned JSON object into a Python dictionary.\n",
    "3. Calculate what the highest and lowest opening prices were for the stock in this period.\n",
    "4. What was the largest change in any one day (based on High and Low price)?\n",
    "5. What was the largest change between any two days (based on Closing Price)?\n",
    "6. What was the average daily trading volume during this year?\n",
    "7. (Optional) What was the median trading volume during this year. (Note: you may need to implement your own function for calculating the median.)"
   ]
  },
  {
   "cell_type": "code",
   "execution_count": 9,
   "metadata": {
    "collapsed": true
   },
   "outputs": [
    {
     "name": "stdout",
     "output_type": "stream",
     "text": [
      "Max Opening: 18.286985\n",
      "Min Opening: 9.768621\n",
      "Largest Change in one day: 1.9070370000000008\n",
      "Largest change in closing prices: 1.8722200000000004\n",
      "Average daily volume: 3191.8038461538463\n",
      "Median volume: 1010.0\n"
     ]
    }
   ],
   "source": [
    "fullYearUrl = 'https://data.nasdaq.com/api/v3/datasets/XFRA/SES/data.json?start_date=2017-01-01&end_date=2017-12-31&api_key=' + API_KEY\n",
    "newR = requests.get(fullYearUrl)\n",
    "fullYearData = json.loads(newR.text)\n",
    "\n",
    "openingPrices = []\n",
    "priceChanges = []\n",
    "closingPrices = []\n",
    "volume = []\n",
    "for date in fullYearData['dataset_data']['data']:\n",
    "    # Get opening prices\n",
    "    openingPrices.append(date[1])\n",
    "    # Get price changes each day\n",
    "    priceChanges.append(float(date[2]) - float(date[3]))\n",
    "    # Get prices changes each day\n",
    "    closingPrices.append(date[4])\n",
    "    # Get volume each day\n",
    "    volume.append(date[5])\n",
    "\n",
    "# Calculate max and min opening\n",
    "maxOpeningPrice = max(openingPrices)\n",
    "minOpeningPrice = min(openingPrices)\n",
    "\n",
    "# Calculate largest change in any one day\n",
    "largestChangeIntraDay = max(priceChanges)\n",
    "\n",
    "# Calculate largest change in closing price between any two days\n",
    "largestChangeInClosing = max(closingPrices[i + 1] - closingPrices[i] for i in range(len(closingPrices) - 1))\n",
    "\n",
    "# Calculate average volume\n",
    "averageDailyVolume = sum(volume) / len(volume)\n",
    "\n",
    "# Calculate the median volume\n",
    "def median(nums):\n",
    "    if len(nums) % 2 == 0:\n",
    "        return (sorted(nums)[int(len(nums)/2)] + sorted(nums)[int(len(nums)/2) - 1]) / 2\n",
    "    else:\n",
    "        return sorted(nums)[int(len(nums)/2)]\n",
    "\n",
    "medianVolume = median(volume)\n",
    "\n",
    "print('Max Opening: ' + str(maxOpeningPrice))\n",
    "print('Min Opening: ' + str(minOpeningPrice))\n",
    "print('Largest Change in one day: ' + str(largestChangeIntraDay))\n",
    "print('Largest change in closing prices: ' + str(largestChangeInClosing))\n",
    "print('Average daily volume: ' + str(averageDailyVolume))\n",
    "print('Median volume: ' + str(medianVolume))"
   ]
  }
 ],
 "metadata": {
  "kernelspec": {
   "display_name": "Python 3",
   "language": "python",
   "name": "python3"
  },
  "language_info": {
   "codemirror_mode": {
    "name": "ipython",
    "version": 3
   },
   "file_extension": ".py",
   "mimetype": "text/x-python",
   "name": "python",
   "nbconvert_exporter": "python",
   "pygments_lexer": "ipython3",
   "version": "3.6.4"
  }
 },
 "nbformat": 4,
 "nbformat_minor": 2
}