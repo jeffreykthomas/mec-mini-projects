{
 "cells": [
  {
   "cell_type": "markdown",
   "metadata": {},
   "source": [
    "# Mini Project: Tree-Based Algorithms"
   ]
  },
  {
   "cell_type": "markdown",
   "metadata": {},
   "source": [
    "## The \"German Credit\" Dataset"
   ]
  },
  {
   "cell_type": "markdown",
   "metadata": {},
   "source": [
    "### Dataset Details"
   ]
  },
  {
   "cell_type": "markdown",
   "metadata": {},
   "source": [
    "This dataset has two classes (these would be considered labels in Machine Learning terms) to describe the worthiness of a personal loan: \"Good\" or \"Bad\". There are predictors related to attributes, such as: checking account status, duration, credit history, purpose of the loan, amount of the loan, savings accounts or bonds, employment duration, installment rate in percentage of disposable income, personal information, other debtors/guarantors, residence duration, property, age, other installment plans, housing, number of existing credits, job information, number of people being liable to provide maintenance for, telephone, and foreign worker status.\n",
    "\n",
    "Many of these predictors are discrete and have been expanded into several 0/1 indicator variables (a.k.a. they have been one-hot-encoded).\n",
    "\n",
    "This dataset has been kindly provided by Professor Dr. Hans Hofmann of the University of Hamburg, and can also be found on the UCI Machine Learning Repository."
   ]
  },
  {
   "cell_type": "markdown",
   "metadata": {},
   "source": [
    "\n",
    "\n",
    "\n"
   ]
  },
  {
   "cell_type": "markdown",
   "metadata": {},
   "source": [
    "## Decision Trees"
   ]
  },
  {
   "cell_type": "markdown",
   "metadata": {},
   "source": [
    " As we have learned in the previous lectures, Decision Trees as a family of algorithms (irrespective to the particular implementation) are powerful algorithms that can produce models with a predictive accuracy higher than that produced by linear models, such as Linear or Logistic Regression. Primarily, this is due to the fact the DT's can model nonlinear relationships, and also have a number of tuning paramters, that allow for the practicioner to achieve the best possible model. An added bonus is the ability to visualize the trained Decision Tree model, which allows for some insight into how the model has produced the predictions that it has. One caveat here, to keep in mind, is that sometimes, due to the size of the dataset (both in the sense of the number of records, as well as the number of features), the visualization might prove to be very large and complex, increasing the difficulty of interpretation."
   ]
  },
  {
   "cell_type": "markdown",
   "metadata": {},
   "source": [
    "To give you a very good example of how Decision Trees can be visualized and interpreted, we would strongly recommend that, before continuing on with solving the problems in this Mini Project, you take the time to read this fanstastic, detailed and informative blog post: http://explained.ai/decision-tree-viz/index.html"
   ]
  },
  {
   "cell_type": "markdown",
   "metadata": {},
   "source": [
    "## Building Your First Decision Tree Model"
   ]
  },
  {
   "cell_type": "markdown",
   "metadata": {},
   "source": [
    "So, now it's time to jump straight into the heart of the matter. Your first task, is to build a Decision Tree model, using the aforementioned \"German Credit\" dataset, which contains 1,000 records, and 62 columns (one of them presents the labels, and the other 61 present the potential features for the model.)"
   ]
  },
  {
   "cell_type": "markdown",
   "metadata": {},
   "source": [
    "For this task, you will be using the scikit-learn library, which comes already pre-installed with the Anaconda Python distribution. In case you're not using that, you can easily install it using pip."
   ]
  },
  {
   "cell_type": "markdown",
   "metadata": {},
   "source": [
    "Before embarking on creating your first model, we would strongly encourage you to read the short tutorial for Decision Trees in scikit-learn (http://scikit-learn.org/stable/modules/tree.html), and then dive a bit deeper into the documentation of the algorithm itself (http://scikit-learn.org/stable/modules/generated/sklearn.tree.DecisionTreeClassifier.html). "
   ]
  },
  {
   "cell_type": "markdown",
   "metadata": {},
   "source": [
    "Also, since you want to be able to present the results of your model, we suggest you take a look at the tutorial for accuracy metrics for classification models (http://scikit-learn.org/stable/modules/model_evaluation.html#classification-report) as well as the more detailed documentation (http://scikit-learn.org/stable/modules/generated/sklearn.metrics.classification_report.html).\n",
    "\n",
    "Finally, an *amazing* resource that explains the various classification model accuracy metrics, as well as the relationships between them, can be found on Wikipedia: https://en.wikipedia.org/wiki/Confusion_matrix"
   ]
  },
  {
   "cell_type": "markdown",
   "metadata": {},
   "source": [
    "(Note: as you've already learned in the Logistic Regression mini project, a standard practice in Machine Learning for achieving the best possible result when training a model is to use hyperparameter tuning, through Grid Search and k-fold Cross Validation. We strongly encourage you to use it here as well, not just because it's standard practice, but also becuase it's not going to be computationally to intensive, due to the size of the dataset that you're working with. Our suggestion here is that you split the data into 70% training, and 30% testing. Then, do the hyperparameter tuning and Cross Validation on the training set, and afterwards to a final test on the testing set.)"
   ]
  },
  {
   "cell_type": "markdown",
   "metadata": {},
   "source": [
    "### Now we pass the torch onto you! You can start building your first Decision Tree model! :)"
   ]
  },
  {
   "cell_type": "code",
   "execution_count": 3,
   "metadata": {},
   "outputs": [],
   "source": [
    "import numpy as np\n",
    "import pandas as pd\n",
    "from sklearn.tree import DecisionTreeClassifier\n",
    "from sklearn.metrics import classification_report, accuracy_score\n",
    "from sklearn.model_selection import train_test_split\n",
    "from sklearn.model_selection import GridSearchCV\n",
    "from sklearn.model_selection import KFold"
   ]
  },
  {
   "cell_type": "code",
   "execution_count": 6,
   "metadata": {},
   "outputs": [],
   "source": [
    "# Your code here! :)\n",
    "df = pd.read_csv('GermanCredit.csv.zip', compression='zip')\n",
    "df.head()\n",
    "df['Class'] = df['Class'].map({'Bad': 0, 'Good': 1})\n",
    "X,y = df.loc[:, df.columns != 'Class'], df.loc[:, df.columns == 'Class'].squeeze()\n",
    "\n",
    "X_train, X_test, y_train, y_test = train_test_split(X, y, test_size=0.3)"
   ]
  },
  {
   "cell_type": "code",
   "execution_count": 7,
   "outputs": [
    {
     "name": "stdout",
     "output_type": "stream",
     "text": [
      "{'max_depth': 2.0}\n"
     ]
    }
   ],
   "source": [
    "max_depth = np.linspace(1, 20, 20)\n",
    "\n",
    "classifier = GridSearchCV(DecisionTreeClassifier(), param_grid=dict(max_depth=max_depth), cv=3)\n",
    "\n",
    "classifier.fit(X_train, y_train)\n",
    "print(classifier.best_params_)"
   ],
   "metadata": {
    "collapsed": false,
    "pycharm": {
     "name": "#%%\n"
    }
   }
  },
  {
   "cell_type": "code",
   "execution_count": 8,
   "outputs": [
    {
     "name": "stdout",
     "output_type": "stream",
     "text": [
      "0.6928571428571428\n"
     ]
    }
   ],
   "source": [
    "def cv_score(clf, x, y, score_func=accuracy_score):\n",
    "    result = 0\n",
    "    nfold = 5\n",
    "    for train, test in KFold(nfold).split(x): # split data into train/test groups, 5 times\n",
    "        clf.fit(x.iloc[train], y.iloc[train]) # fit\n",
    "        result += score_func(clf.predict(x.iloc[test]), y.iloc[test]) # evaluate score function on held-out data\n",
    "    return result / nfold # average\n",
    "\n",
    "dtree = DecisionTreeClassifier(max_depth=2)\n",
    "\n",
    "score = cv_score(dtree, X_train, y_train)\n",
    "print(score)"
   ],
   "metadata": {
    "collapsed": false,
    "pycharm": {
     "name": "#%%\n"
    }
   }
  },
  {
   "cell_type": "code",
   "execution_count": 9,
   "outputs": [
    {
     "name": "stdout",
     "output_type": "stream",
     "text": [
      "              precision    recall  f1-score   support\n",
      "\n",
      "           0       0.45      0.51      0.48        75\n",
      "           1       0.83      0.79      0.81       225\n",
      "\n",
      "    accuracy                           0.72       300\n",
      "   macro avg       0.64      0.65      0.64       300\n",
      "weighted avg       0.73      0.72      0.73       300\n",
      "\n",
      "Decision Trees: Final Generalization Accuracy: 0.720000\n"
     ]
    }
   ],
   "source": [
    "dtree.fit(X_train, y_train)\n",
    "y_pred = dtree.predict(X_test)\n",
    "\n",
    "print(classification_report(y_test, y_pred))\n",
    "print(\"Decision Trees: Final Generalization Accuracy: %.6f\" %accuracy_score(y_test,y_pred))"
   ],
   "metadata": {
    "collapsed": false,
    "pycharm": {
     "name": "#%%\n"
    }
   }
  },
  {
   "cell_type": "markdown",
   "metadata": {},
   "source": [
    "### After you've built the best model you can, now it's time to visualize it!"
   ]
  },
  {
   "cell_type": "markdown",
   "metadata": {},
   "source": [
    "Rememeber that amazing blog post from a few paragraphs ago, that demonstrated how to visualize and interpret the results of your Decision Tree model. We've seen that this can perform very well, but let's see how it does on the \"German Credit\" dataset that we're working on, due to it being a bit larger than the one used by the blog authors."
   ]
  },
  {
   "cell_type": "markdown",
   "metadata": {},
   "source": [
    "First, we're going to need to install their package. If you're using Anaconda, this can be done easily by running:"
   ]
  },
  {
   "cell_type": "code",
   "execution_count": 28,
   "metadata": {},
   "outputs": [
    {
     "name": "stdout",
     "output_type": "stream",
     "text": [
      "Collecting dtreeviz\r\n",
      "  Downloading dtreeviz-1.3.2.tar.gz (62 kB)\r\n",
      "\u001B[K     |████████████████████████████████| 62 kB 1.0 MB/s eta 0:00:011\r\n",
      "\u001B[?25hCollecting graphviz>=0.9\r\n",
      "  Downloading graphviz-0.19-py3-none-any.whl (46 kB)\r\n",
      "\u001B[K     |████████████████████████████████| 46 kB 8.7 MB/s  eta 0:00:01\r\n",
      "\u001B[?25hRequirement already satisfied: pandas in /Users/jeffreykthomas/.conda/envs/wescrape/lib/python3.9/site-packages (from dtreeviz) (1.3.3)\r\n",
      "Requirement already satisfied: numpy in /Users/jeffreykthomas/.conda/envs/wescrape/lib/python3.9/site-packages (from dtreeviz) (1.20.0)\r\n",
      "Requirement already satisfied: scikit-learn in /Users/jeffreykthomas/.conda/envs/wescrape/lib/python3.9/site-packages (from dtreeviz) (0.24.2)\r\n",
      "Requirement already satisfied: matplotlib in /Users/jeffreykthomas/.conda/envs/wescrape/lib/python3.9/site-packages (from dtreeviz) (3.4.3)\r\n",
      "Collecting colour\r\n",
      "  Downloading colour-0.1.5-py2.py3-none-any.whl (23 kB)\r\n",
      "Collecting pytest\r\n",
      "  Downloading pytest-6.2.5-py3-none-any.whl (280 kB)\r\n",
      "\u001B[K     |████████████████████████████████| 280 kB 7.7 MB/s eta 0:00:01\r\n",
      "\u001B[?25hRequirement already satisfied: python-dateutil>=2.7 in /Users/jeffreykthomas/.conda/envs/wescrape/lib/python3.9/site-packages (from matplotlib->dtreeviz) (2.8.2)\r\n",
      "Requirement already satisfied: pyparsing>=2.2.1 in /Users/jeffreykthomas/.conda/envs/wescrape/lib/python3.9/site-packages (from matplotlib->dtreeviz) (2.4.7)\r\n",
      "Requirement already satisfied: cycler>=0.10 in /Users/jeffreykthomas/.conda/envs/wescrape/lib/python3.9/site-packages (from matplotlib->dtreeviz) (0.10.0)\r\n",
      "Requirement already satisfied: kiwisolver>=1.0.1 in /Users/jeffreykthomas/.conda/envs/wescrape/lib/python3.9/site-packages (from matplotlib->dtreeviz) (1.3.1)\r\n",
      "Requirement already satisfied: pillow>=6.2.0 in /Users/jeffreykthomas/.conda/envs/wescrape/lib/python3.9/site-packages (from matplotlib->dtreeviz) (8.4.0)\r\n",
      "Requirement already satisfied: six in /Users/jeffreykthomas/.conda/envs/wescrape/lib/python3.9/site-packages (from cycler>=0.10->matplotlib->dtreeviz) (1.16.0)\r\n",
      "Requirement already satisfied: pytz>=2017.3 in /Users/jeffreykthomas/.conda/envs/wescrape/lib/python3.9/site-packages (from pandas->dtreeviz) (2021.3)\r\n",
      "Requirement already satisfied: packaging in /Users/jeffreykthomas/.conda/envs/wescrape/lib/python3.9/site-packages (from pytest->dtreeviz) (21.0)\r\n",
      "Collecting py>=1.8.2\r\n",
      "  Downloading py-1.11.0-py2.py3-none-any.whl (98 kB)\r\n",
      "\u001B[K     |████████████████████████████████| 98 kB 27.0 MB/s eta 0:00:01\r\n",
      "\u001B[?25hCollecting iniconfig\r\n",
      "  Downloading iniconfig-1.1.1-py2.py3-none-any.whl (5.0 kB)\r\n",
      "Collecting toml\r\n",
      "  Downloading toml-0.10.2-py2.py3-none-any.whl (16 kB)\r\n",
      "Requirement already satisfied: attrs>=19.2.0 in /Users/jeffreykthomas/.conda/envs/wescrape/lib/python3.9/site-packages (from pytest->dtreeviz) (21.2.0)\r\n",
      "Collecting pluggy<2.0,>=0.12\r\n",
      "  Downloading pluggy-1.0.0-py2.py3-none-any.whl (13 kB)\r\n",
      "Requirement already satisfied: joblib>=0.11 in /Users/jeffreykthomas/.conda/envs/wescrape/lib/python3.9/site-packages (from scikit-learn->dtreeviz) (1.0.1)\r\n",
      "Requirement already satisfied: threadpoolctl>=2.0.0 in /Users/jeffreykthomas/.conda/envs/wescrape/lib/python3.9/site-packages (from scikit-learn->dtreeviz) (2.2.0)\r\n",
      "Requirement already satisfied: scipy>=0.19.1 in /Users/jeffreykthomas/.conda/envs/wescrape/lib/python3.9/site-packages (from scikit-learn->dtreeviz) (1.7.1)\r\n",
      "Building wheels for collected packages: dtreeviz\r\n",
      "  Building wheel for dtreeviz (setup.py) ... \u001B[?25ldone\r\n",
      "\u001B[?25h  Created wheel for dtreeviz: filename=dtreeviz-1.3.2-py3-none-any.whl size=67922 sha256=91983e763de4488140a8a326f06429dbd62ac9c35c4e00c056fc45ff83db0889\r\n",
      "  Stored in directory: /Users/jeffreykthomas/Library/Caches/pip/wheels/53/2c/23/156e13a0e7aad1b2fef5f5566d227829565a112e3dc1a59c0d\r\n",
      "Successfully built dtreeviz\r\n",
      "Installing collected packages: toml, py, pluggy, iniconfig, pytest, graphviz, colour, dtreeviz\r\n",
      "Successfully installed colour-0.1.5 dtreeviz-1.3.2 graphviz-0.19 iniconfig-1.1.1 pluggy-1.0.0 py-1.11.0 pytest-6.2.5 toml-0.10.2\r\n"
     ]
    }
   ],
   "source": [
    "! pip install dtreeviz"
   ]
  },
  {
   "cell_type": "markdown",
   "metadata": {},
   "source": [
    "If for any reason this way of installing doesn't work for you straight out of the box, please refer to the more detailed documentation here: https://github.com/parrt/dtreeviz"
   ]
  },
  {
   "cell_type": "markdown",
   "metadata": {},
   "source": [
    "Now you're ready to visualize your Decision Tree model! Please feel free to use the blog post for guidance and inspiration!"
   ]
  },
  {
   "cell_type": "code",
   "execution_count": 38,
   "outputs": [
    {
     "name": "stdout",
     "output_type": "stream",
     "text": [
      "Requirement already satisfied: graphviz in /Users/jeffreykthomas/.conda/envs/wescrape/lib/python3.9/site-packages (0.19)\r\n"
     ]
    }
   ],
   "source": [
    "! pip install graphviz"
   ],
   "metadata": {
    "collapsed": false,
    "pycharm": {
     "name": "#%%\n"
    }
   }
  },
  {
   "cell_type": "code",
   "execution_count": 16,
   "metadata": {},
   "outputs": [
    {
     "name": "stderr",
     "output_type": "stream",
     "text": [
      "In /Users/jeffreykthomas/.conda/envs/wescrape/lib/python3.9/site-packages/matplotlib/mpl-data/stylelib/_classic_test.mplstyle: \n",
      "The text.latex.preview rcparam was deprecated in Matplotlib 3.3 and will be removed two minor releases later.\n",
      "In /Users/jeffreykthomas/.conda/envs/wescrape/lib/python3.9/site-packages/matplotlib/mpl-data/stylelib/_classic_test.mplstyle: \n",
      "The mathtext.fallback_to_cm rcparam was deprecated in Matplotlib 3.3 and will be removed two minor releases later.\n",
      "In /Users/jeffreykthomas/.conda/envs/wescrape/lib/python3.9/site-packages/matplotlib/mpl-data/stylelib/_classic_test.mplstyle: Support for setting the 'mathtext.fallback_to_cm' rcParam is deprecated since 3.3 and will be removed two minor releases later; use 'mathtext.fallback : 'cm' instead.\n",
      "In /Users/jeffreykthomas/.conda/envs/wescrape/lib/python3.9/site-packages/matplotlib/mpl-data/stylelib/_classic_test.mplstyle: \n",
      "The validate_bool_maybe_none function was deprecated in Matplotlib 3.3 and will be removed two minor releases later.\n",
      "In /Users/jeffreykthomas/.conda/envs/wescrape/lib/python3.9/site-packages/matplotlib/mpl-data/stylelib/_classic_test.mplstyle: \n",
      "The savefig.jpeg_quality rcparam was deprecated in Matplotlib 3.3 and will be removed two minor releases later.\n",
      "In /Users/jeffreykthomas/.conda/envs/wescrape/lib/python3.9/site-packages/matplotlib/mpl-data/stylelib/_classic_test.mplstyle: \n",
      "The keymap.all_axes rcparam was deprecated in Matplotlib 3.3 and will be removed two minor releases later.\n",
      "In /Users/jeffreykthomas/.conda/envs/wescrape/lib/python3.9/site-packages/matplotlib/mpl-data/stylelib/_classic_test.mplstyle: \n",
      "The animation.avconv_path rcparam was deprecated in Matplotlib 3.3 and will be removed two minor releases later.\n",
      "In /Users/jeffreykthomas/.conda/envs/wescrape/lib/python3.9/site-packages/matplotlib/mpl-data/stylelib/_classic_test.mplstyle: \n",
      "The animation.avconv_args rcparam was deprecated in Matplotlib 3.3 and will be removed two minor releases later.\n"
     ]
    },
    {
     "data": {
      "image/png": "[encoded data removed]",
      "text/plain": "<IPython.core.display.Image object>"
     },
     "execution_count": 16,
     "metadata": {},
     "output_type": "execute_result"
    }
   ],
   "source": [
    "# Your code here! :)\n",
    "\n",
    "import seaborn as sns\n",
    "from dtreeviz.trees import *\n",
    "from IPython.display import Image\n",
    "import graphviz\n",
    "import graphviz.backend\n",
    "# from dtreeviz.models.shadow_decision_tree import ShadowDecTree\n",
    "\n",
    "# sk_dtree = ShadowDecTree(dtree, X_train, y_train, X.columns, y)\n",
    "\n",
    "viz = dtreeviz(dtree, X_train, y_train, target_name='class', feature_names=X.columns)\n",
    "\n",
    "Image('DTreeViz_51144.png')"
   ]
  },
  {
   "cell_type": "markdown",
   "metadata": {},
   "source": [
    "## Random Forests"
   ]
  },
  {
   "cell_type": "markdown",
   "metadata": {},
   "source": [
    "As discussed in the lecture videos, Decision Tree algorithms also have certain undesireable properties. Mainly the have low bias, which is good, but tend to have high variance - which is *not* so good (more about this problem here: https://en.wikipedia.org/wiki/Bias%E2%80%93variance_tradeoff)."
   ]
  },
  {
   "cell_type": "markdown",
   "metadata": {},
   "source": [
    "Noticing these problems, the late Professor Leo Breiman, in 2001, developed the Random Forests algorithm, which mitigates these problems, while at the same time providing even higher predictive accuracy than the majority of Decision Tree algorithm implementations. While the curriculum contains two excellent lectures on Random Forests, if you're interested, you can dive into the original paper here: https://link.springer.com/content/pdf/10.1023%2FA%3A1010933404324.pdf."
   ]
  },
  {
   "cell_type": "markdown",
   "metadata": {},
   "source": [
    "In the next part of this assignment, your are going to use the same \"German Credit\" dataset to train, tune, and measure the performance of a Random Forests model. You will also see certain functionalities that this model, even though it's a bit of a \"black box\", provides for some degree of interpretability."
   ]
  },
  {
   "cell_type": "markdown",
   "metadata": {},
   "source": [
    "First, let's build a Random Forests model, using the same best practices that you've used for your Decision Trees model. You can reuse the things you've already imported there, so no need to do any re-imports, new train/test splits, or loading up the data again."
   ]
  },
  {
   "cell_type": "code",
   "execution_count": 10,
   "metadata": {},
   "outputs": [],
   "source": [
    "from sklearn.ensemble import RandomForestClassifier"
   ]
  },
  {
   "cell_type": "code",
   "execution_count": 11,
   "metadata": {},
   "outputs": [
    {
     "name": "stdout",
     "output_type": "stream",
     "text": [
      "{'max_depth': 13.0, 'n_estimators': 1000}\n"
     ]
    }
   ],
   "source": [
    "# Your code here! :)\n",
    "n_estimators = [10, 100, 1000]\n",
    "\n",
    "random_classifier = GridSearchCV(RandomForestClassifier(), param_grid=dict(n_estimators=n_estimators, max_depth=max_depth), cv=5, n_jobs=10)\n",
    "\n",
    "random_classifier.fit(X_train, y_train)\n",
    "print(random_classifier.best_params_)"
   ]
  },
  {
   "cell_type": "code",
   "execution_count": 12,
   "outputs": [
    {
     "name": "stdout",
     "output_type": "stream",
     "text": [
      "0.7471428571428571\n"
     ]
    }
   ],
   "source": [
    "rtree = RandomForestClassifier(max_depth=13, n_estimators=1000)\n",
    "\n",
    "score = cv_score(rtree, X_train, y_train)\n",
    "print(score)"
   ],
   "metadata": {
    "collapsed": false,
    "pycharm": {
     "name": "#%%\n"
    }
   }
  },
  {
   "cell_type": "code",
   "execution_count": 13,
   "outputs": [
    {
     "name": "stdout",
     "output_type": "stream",
     "text": [
      "              precision    recall  f1-score   support\n",
      "\n",
      "           0       0.62      0.45      0.52        75\n",
      "           1       0.83      0.91      0.87       225\n",
      "\n",
      "    accuracy                           0.79       300\n",
      "   macro avg       0.73      0.68      0.70       300\n",
      "weighted avg       0.78      0.79      0.78       300\n",
      "\n",
      "Random Forest: Final Generalization Accuracy: 0.793333\n"
     ]
    }
   ],
   "source": [
    "rtree.fit(X_train, y_train)\n",
    "y_r_pred = rtree.predict(X_test)\n",
    "\n",
    "print(classification_report(y_test, y_r_pred))\n",
    "print(\"Random Forest: Final Generalization Accuracy: %.6f\" %accuracy_score(y_test,y_r_pred))"
   ],
   "metadata": {
    "collapsed": false,
    "pycharm": {
     "name": "#%%\n"
    }
   }
  },
  {
   "cell_type": "code",
   "execution_count": 65,
   "outputs": [],
   "source": [],
   "metadata": {
    "collapsed": false,
    "pycharm": {
     "name": "#%%\n"
    }
   }
  },
  {
   "cell_type": "markdown",
   "metadata": {},
   "source": [
    "As mentioned, there are certain ways to \"peek\" into a model created by the Random Forests algorithm. The first, and most popular one, is the Feature Importance calculation functionality. This allows the ML practitioner to see an ordering of the importance of the features that have contributed the most to the predictive accuracy of the model. \n",
    "\n",
    "You can see how to use this in the scikit-learn documentation (http://scikit-learn.org/stable/modules/generated/sklearn.ensemble.RandomForestClassifier.html#sklearn.ensemble.RandomForestClassifier.feature_importances_). Now, if you tried this, you would just get an ordered table of not directly interpretable numeric values. Thus, it's much more useful to show the feature importance in a visual way. You can see an example of how that's done here: http://scikit-learn.org/stable/auto_examples/ensemble/plot_forest_importances.html#sphx-glr-auto-examples-ensemble-plot-forest-importances-py\n",
    "\n",
    "Now you try! Let's visualize the importance of features from your Random Forests model!"
   ]
  },
  {
   "cell_type": "code",
   "execution_count": 17,
   "metadata": {},
   "outputs": [
    {
     "data": {
      "text/plain": "<Figure size 432x288 with 1 Axes>",
      "image/png": "[encoded data removed]"
     },
     "metadata": {
      "needs_background": "light"
     },
     "output_type": "display_data"
    },
    {
     "data": {
      "text/plain": "<Figure size 1296x1440 with 0 Axes>"
     },
     "metadata": {},
     "output_type": "display_data"
    }
   ],
   "source": [
    "# Your code here\n",
    "\n",
    "feature_names = [f\"feature {i}\" for i in range(X.shape[1])]\n",
    "std = np.std([tree.feature_importances_ for tree in rtree.estimators_], axis=0)\n",
    "importances = rtree.feature_importances_\n",
    "forest_importances = pd.Series(importances, index=feature_names)\n",
    "\n",
    "fig, ax = plt.subplots()\n",
    "fig = plt.figure(figsize=(18, 20))\n",
    "forest_importances.plot.bar(yerr=std, ax=ax)\n",
    "ax.set_title(\"Feature importances using MDI\")\n",
    "ax.set_ylabel(\"Mean decrease in impurity\")\n",
    "fig.tight_layout()"
   ]
  },
  {
   "cell_type": "markdown",
   "metadata": {},
   "source": [
    "A final method for gaining some insight into the inner working of your Random Forests models is a so-called Partial Dependence Plot. The Partial Dependence Plot (PDP or PD plot) shows the marginal effect of a feature on the predicted outcome of a previously fit model. The prediction function is fixed at a few values of the chosen features and averaged over the other features. A partial dependence plot can show if the relationship between the target and a feature is linear, monotonic or more complex. \n",
    "\n",
    "In scikit-learn, PDPs are implemented and available for certain algorithms, but at this point (version 0.20.0) they are not yet implemented for Random Forests. Thankfully, there is an add-on package called **PDPbox** (https://pdpbox.readthedocs.io/en/latest/) which adds this functionality to Random Forests. The package is easy to install through pip."
   ]
  },
  {
   "cell_type": "code",
   "execution_count": 73,
   "metadata": {},
   "outputs": [
    {
     "name": "stdout",
     "output_type": "stream",
     "text": [
      "Collecting pdpbox\r\n",
      "  Downloading PDPbox-0.2.1.tar.gz (34.0 MB)\r\n",
      "\u001B[K     |████████████████████████████████| 34.0 MB 3.9 MB/s eta 0:00:01\r\n",
      "\u001B[?25hRequirement already satisfied: pandas in /Users/jeffreykthomas/.conda/envs/wescrape/lib/python3.9/site-packages (from pdpbox) (1.3.3)\r\n",
      "Requirement already satisfied: numpy in /Users/jeffreykthomas/.conda/envs/wescrape/lib/python3.9/site-packages (from pdpbox) (1.20.0)\r\n",
      "Requirement already satisfied: scipy in /Users/jeffreykthomas/.conda/envs/wescrape/lib/python3.9/site-packages (from pdpbox) (1.7.1)\r\n",
      "Requirement already satisfied: joblib in /Users/jeffreykthomas/.conda/envs/wescrape/lib/python3.9/site-packages (from pdpbox) (1.0.1)\r\n",
      "Collecting psutil\r\n",
      "  Downloading psutil-5.8.0-cp39-cp39-macosx_10_9_x86_64.whl (236 kB)\r\n",
      "\u001B[K     |████████████████████████████████| 236 kB 48.8 MB/s eta 0:00:01\r\n",
      "\u001B[?25hCollecting matplotlib==3.1.1\r\n",
      "  Downloading matplotlib-3.1.1.tar.gz (37.8 MB)\r\n",
      "\u001B[K     |████████████████████████████████| 37.8 MB 21.9 MB/s eta 0:00:01     |███████████████▎                | 18.0 MB 21.9 MB/s eta 0:00:01\r\n",
      "\u001B[?25hCollecting sklearn\r\n",
      "  Downloading sklearn-0.0.tar.gz (1.1 kB)\r\n",
      "Requirement already satisfied: cycler>=0.10 in /Users/jeffreykthomas/.conda/envs/wescrape/lib/python3.9/site-packages (from matplotlib==3.1.1->pdpbox) (0.10.0)\r\n",
      "Requirement already satisfied: kiwisolver>=1.0.1 in /Users/jeffreykthomas/.conda/envs/wescrape/lib/python3.9/site-packages (from matplotlib==3.1.1->pdpbox) (1.3.1)\r\n",
      "Requirement already satisfied: pyparsing!=2.0.4,!=2.1.2,!=2.1.6,>=2.0.1 in /Users/jeffreykthomas/.conda/envs/wescrape/lib/python3.9/site-packages (from matplotlib==3.1.1->pdpbox) (2.4.7)\r\n",
      "Requirement already satisfied: python-dateutil>=2.1 in /Users/jeffreykthomas/.conda/envs/wescrape/lib/python3.9/site-packages (from matplotlib==3.1.1->pdpbox) (2.8.2)\r\n",
      "Requirement already satisfied: six in /Users/jeffreykthomas/.conda/envs/wescrape/lib/python3.9/site-packages (from cycler>=0.10->matplotlib==3.1.1->pdpbox) (1.16.0)\r\n",
      "Requirement already satisfied: pytz>=2017.3 in /Users/jeffreykthomas/.conda/envs/wescrape/lib/python3.9/site-packages (from pandas->pdpbox) (2021.3)\r\n",
      "Requirement already satisfied: scikit-learn in /Users/jeffreykthomas/.conda/envs/wescrape/lib/python3.9/site-packages (from sklearn->pdpbox) (0.24.2)\r\n",
      "Requirement already satisfied: threadpoolctl>=2.0.0 in /Users/jeffreykthomas/.conda/envs/wescrape/lib/python3.9/site-packages (from scikit-learn->sklearn->pdpbox) (2.2.0)\r\n",
      "Building wheels for collected packages: pdpbox, matplotlib, sklearn\r\n",
      "  Building wheel for pdpbox (setup.py) ... \u001B[?25ldone\r\n",
      "\u001B[?25h  Created wheel for pdpbox: filename=PDPbox-0.2.1-py3-none-any.whl size=35758226 sha256=2436f00d14769163c2b223311ad24c5d18941a999f24e4f54d195d7bd7a60963\r\n",
      "  Stored in directory: /Users/jeffreykthomas/Library/Caches/pip/wheels/f2/5e/63/62e00a642415e064a55f53b5095ceb1420d24685125420d3ac\r\n",
      "  Building wheel for matplotlib (setup.py) ... \u001B[?25ldone\r\n",
      "\u001B[?25h  Created wheel for matplotlib: filename=matplotlib-3.1.1-cp39-cp39-macosx_10_9_x86_64.whl size=8403023 sha256=fe9cb3bb1c2019bad1bc4f83d268b744397fed7ab75ed29021c2e577b99e25a0\r\n",
      "  Stored in directory: /Users/jeffreykthomas/Library/Caches/pip/wheels/25/d0/ab/05f776f079a53f4c6a12c98220910f4d0d245609b8c673a5ad\r\n",
      "  Building wheel for sklearn (setup.py) ... \u001B[?25ldone\r\n",
      "\u001B[?25h  Created wheel for sklearn: filename=sklearn-0.0-py2.py3-none-any.whl size=1317 sha256=0e234fc3fbb967c80b10c3bf1f3937eba2bd113a7d61f42f1bb2306d74fafb37\r\n",
      "  Stored in directory: /Users/jeffreykthomas/Library/Caches/pip/wheels/e4/7b/98/b6466d71b8d738a0c547008b9eb39bf8676d1ff6ca4b22af1c\r\n",
      "Successfully built pdpbox matplotlib sklearn\r\n",
      "Installing collected packages: sklearn, psutil, matplotlib, pdpbox\r\n",
      "  Attempting uninstall: matplotlib\r\n",
      "    Found existing installation: matplotlib 3.4.3\r\n",
      "    Uninstalling matplotlib-3.4.3:\r\n",
      "      Successfully uninstalled matplotlib-3.4.3\r\n",
      "Successfully installed matplotlib-3.1.1 pdpbox-0.2.1 psutil-5.8.0 sklearn-0.0\r\n"
     ]
    }
   ],
   "source": [
    "! pip install pdpbox"
   ]
  },
  {
   "cell_type": "markdown",
   "metadata": {},
   "source": [
    "While we encourage you to read the documentation for the package (and reading package documentation in general is a good habit to develop), the authors of the package have also written an excellent blog post on how to use it, showing examples on different algorithms from scikit-learn (the Random Forests example is towards the end of the blog post): https://briangriner.github.io/Partial_Dependence_Plots_presentation-BrianGriner-PrincetonPublicLibrary-4.14.18-updated-4.22.18.html"
   ]
  },
  {
   "cell_type": "markdown",
   "metadata": {},
   "source": [
    "So, armed with this new knowledge, feel free to pick a few features, and make a couple of Partial Dependence Plots of your own!"
   ]
  },
  {
   "cell_type": "code",
   "execution_count": 18,
   "metadata": {},
   "outputs": [
    {
     "data": {
      "text/plain": "<Figure size 432x288 with 1 Axes>",
      "image/png": "[encoded data removed]"
     },
     "metadata": {
      "needs_background": "light"
     },
     "output_type": "display_data"
    }
   ],
   "source": [
    "# Your code here!\n",
    "# import pdpbox\n",
    "# from pdpbox import pdp\n",
    "# # Amount\n",
    "# pdp_amount = pdp.pdp_interact(rtree, X.columns, ['Amount'])\n",
    "# pdp.pdp_interact_plot(pdp_amount, ['Amount'], center=True, plot_org_pts=True, plot_lines=True, frac_to_plot=0.5)\n",
    "\n",
    "amount_values = np.linspace(np.min(X['Amount']), np.max(X['Amount']))\n",
    "\n",
    "pdp_values = []\n",
    "for n in amount_values:\n",
    "  X_pdp = X.copy()\n",
    "  X_pdp['Amount'] = n\n",
    "  pdp_values.append(np.mean(rtree.predict(X_pdp)))\n",
    "\n",
    "plt.plot(amount_values, pdp_values)\n",
    "plt.ylabel('Predicted loan approval')\n",
    "plt.xlabel('Amount')\n",
    "plt.title('Partial dependence plot for Amount vs Loan for Random Forest')\n",
    "plt.show()\n"
   ]
  },
  {
   "cell_type": "code",
   "execution_count": 19,
   "outputs": [
    {
     "data": {
      "text/plain": "<Figure size 432x288 with 1 Axes>",
      "image/png": "[encoded data removed]"
     },
     "metadata": {
      "needs_background": "light"
     },
     "output_type": "display_data"
    }
   ],
   "source": [
    "age_values = np.linspace(np.min(X['Age']), np.max(X['Age']))\n",
    "\n",
    "pdp_age_values = []\n",
    "for n in age_values:\n",
    "  X_pdp = X.copy()\n",
    "  X_pdp['Age'] = n\n",
    "  pdp_age_values.append(np.mean(rtree.predict(X_pdp)))\n",
    "\n",
    "plt.plot(age_values, pdp_age_values)\n",
    "plt.ylabel('Predicted Loan Approval')\n",
    "plt.xlabel('Age')\n",
    "plt.title('Partial dependence plot for Age vs Loan for Random Forest')\n",
    "plt.show()"
   ],
   "metadata": {
    "collapsed": false,
    "pycharm": {
     "name": "#%%\n"
    }
   }
  },
  {
   "cell_type": "markdown",
   "metadata": {},
   "source": [
    "## (Optional) Advanced Boosting-Based Algorithms"
   ]
  },
  {
   "cell_type": "markdown",
   "metadata": {},
   "source": [
    "As explained in the video lectures, the next generation of algorithms after Random Forests (that use Bagging, a.k.a. Bootstrap Aggregation) were developed using Boosting, and the first one of these were Gradient Boosted Machines, which are implemented in scikit-learn (http://scikit-learn.org/stable/modules/ensemble.html#gradient-tree-boosting)."
   ]
  },
  {
   "cell_type": "markdown",
   "metadata": {},
   "source": [
    "Still, in recent years, a number of variations on GBMs have been developed by different research amd industry groups, all of them bringing improvements, both in speed, accuracy and functionality to the original Gradient Boosting algorithms.\n",
    "\n",
    "In no order of preference, these are:\n",
    "1. **XGBoost**: https://xgboost.readthedocs.io/en/latest/\n",
    "2. **CatBoost**: https://tech.yandex.com/catboost/\n",
    "3. **LightGBM**: https://lightgbm.readthedocs.io/en/latest/"
   ]
  },
  {
   "cell_type": "markdown",
   "metadata": {},
   "source": [
    "If you're using the Anaconda distribution, these are all very easy to install:"
   ]
  },
  {
   "cell_type": "code",
   "execution_count": 85,
   "metadata": {},
   "outputs": [],
   "source": []
  },
  {
   "cell_type": "code",
   "execution_count": null,
   "metadata": {},
   "outputs": [],
   "source": []
  },
  {
   "cell_type": "code",
   "execution_count": null,
   "metadata": {},
   "outputs": [],
   "source": []
  },
  {
   "cell_type": "markdown",
   "metadata": {},
   "source": [
    "Your task in this optional section of the mini project is to read the documentation of these three libraries, and apply all of them to the \"German Credit\" dataset, just like you did in the case of Decision Trees and Random Forests."
   ]
  },
  {
   "cell_type": "markdown",
   "metadata": {},
   "source": [
    "The final deliverable of this section should be a table (can be a pandas DataFrame) which shows the accuracy of all the five algorthms taught in this mini project in one place."
   ]
  },
  {
   "cell_type": "markdown",
   "metadata": {},
   "source": [
    "Happy modeling! :)"
   ]
  },
  {
   "cell_type": "code",
   "execution_count": 20,
   "metadata": {},
   "outputs": [
    {
     "name": "stdout",
     "output_type": "stream",
     "text": [
      "{'learning_rate': 0.0001, 'n_estimators': 1000}\n"
     ]
    }
   ],
   "source": [
    "from xgboost import XGBRFClassifier\n",
    "\n",
    "n_estimators = [10, 100, 1000]\n",
    "learning_rate = [0.0001, 0.001, 0.01, 0.1, 1, 10]\n",
    "\n",
    "xgb_classifier = GridSearchCV(XGBRFClassifier(use_label_encoder=False, eval_metric='logloss'), param_grid=dict(n_estimators=n_estimators, learning_rate=learning_rate), cv=3, n_jobs=10)\n",
    "\n",
    "xgb_classifier.fit(X_train, y_train)\n",
    "print(xgb_classifier.best_params_)"
   ]
  },
  {
   "cell_type": "code",
   "execution_count": 21,
   "outputs": [
    {
     "name": "stdout",
     "output_type": "stream",
     "text": [
      "0.7200000000000001\n"
     ]
    }
   ],
   "source": [
    "xgb_tree = XGBRFClassifier(learning_rate=0.0001, n_estimators=1000, use_label_encoder=False, eval_metric='logloss')\n",
    "\n",
    "score = cv_score(xgb_tree, X_train, y_train)\n",
    "print(score)"
   ],
   "metadata": {
    "collapsed": false,
    "pycharm": {
     "name": "#%%\n"
    }
   }
  },
  {
   "cell_type": "code",
   "execution_count": 22,
   "outputs": [
    {
     "name": "stdout",
     "output_type": "stream",
     "text": [
      "              precision    recall  f1-score   support\n",
      "\n",
      "           0       0.53      0.53      0.53        75\n",
      "           1       0.84      0.84      0.84       225\n",
      "\n",
      "    accuracy                           0.76       300\n",
      "   macro avg       0.69      0.69      0.69       300\n",
      "weighted avg       0.76      0.76      0.76       300\n",
      "\n",
      "XGBoost: Final Generalization Accuracy: 0.763333\n"
     ]
    }
   ],
   "source": [
    "xgb_tree.fit(X_train, y_train)\n",
    "y_xgb_pred = xgb_tree.predict(X_test)\n",
    "\n",
    "print(classification_report(y_test, y_xgb_pred))\n",
    "print(\"XGBoost: Final Generalization Accuracy: %.6f\" %accuracy_score(y_test,y_xgb_pred))"
   ],
   "metadata": {
    "collapsed": false,
    "pycharm": {
     "name": "#%%\n"
    }
   }
  },
  {
   "cell_type": "code",
   "execution_count": 23,
   "outputs": [
    {
     "name": "stdout",
     "output_type": "stream",
     "text": [
      "{'iterations': 1000, 'learning_rate': 0.01}\n"
     ]
    }
   ],
   "source": [
    "from catboost import CatBoostClassifier\n",
    "\n",
    "learning_rate = [0.0001, 0.001, 0.01, 0.1, 1]\n",
    "\n",
    "cat_classifier = GridSearchCV(CatBoostClassifier(logging_level='Silent'), param_grid=dict(iterations=n_estimators, learning_rate=learning_rate), cv=3, n_jobs=10)\n",
    "\n",
    "cat_classifier.fit(X_train, y_train)\n",
    "print(cat_classifier.best_params_)"
   ],
   "metadata": {
    "collapsed": false,
    "pycharm": {
     "name": "#%%\n"
    }
   }
  },
  {
   "cell_type": "code",
   "execution_count": 24,
   "outputs": [
    {
     "name": "stdout",
     "output_type": "stream",
     "text": [
      "0.7657142857142857\n"
     ]
    }
   ],
   "source": [
    "cat_tree = CatBoostClassifier(learning_rate=0.01, iterations=1000, logging_level='Silent')\n",
    "\n",
    "score = cv_score(cat_tree, X_train, y_train)\n",
    "print(score)"
   ],
   "metadata": {
    "collapsed": false,
    "pycharm": {
     "name": "#%%\n"
    }
   }
  },
  {
   "cell_type": "code",
   "execution_count": 25,
   "outputs": [
    {
     "name": "stdout",
     "output_type": "stream",
     "text": [
      "              precision    recall  f1-score   support\n",
      "\n",
      "           0       0.59      0.55      0.57        75\n",
      "           1       0.85      0.87      0.86       225\n",
      "\n",
      "    accuracy                           0.79       300\n",
      "   macro avg       0.72      0.71      0.71       300\n",
      "weighted avg       0.79      0.79      0.79       300\n",
      "\n",
      "CatBoost: Final Generalization Accuracy: 0.790000\n"
     ]
    }
   ],
   "source": [
    "cat_tree.fit(X_train, y_train)\n",
    "y_cat_pred = cat_tree.predict(X_test)\n",
    "\n",
    "print(classification_report(y_test, y_cat_pred))\n",
    "print(\"CatBoost: Final Generalization Accuracy: %.6f\" %accuracy_score(y_test,y_cat_pred))"
   ],
   "metadata": {
    "collapsed": false,
    "pycharm": {
     "name": "#%%\n"
    }
   }
  },
  {
   "cell_type": "code",
   "execution_count": 35,
   "outputs": [
    {
     "name": "stdout",
     "output_type": "stream",
     "text": [
      "{'max_depth': 10, 'min_child_samples': 20, 'num_leaves': 10}\n"
     ]
    }
   ],
   "source": [
    "import lightgbm as lgb\n",
    "max_depth = [1, 5, 10, 15, 20]\n",
    "num_leaves = [10, 100, 1000]\n",
    "min_data_in_leaf = [20, 100, 1000]\n",
    "categoricals = X_train.columns\n",
    "indexes_of_categories = [X_train.columns.get_loc(col) for col in categoricals]\n",
    "\n",
    "lgb_estimator = lgb.LGBMClassifier(boosting_type='gbdt',  objective='binary', learning_rate=0.01, metric='auc')\n",
    "\n",
    "lgb_classifier = GridSearchCV(lgb_estimator, param_grid=dict(num_leaves=num_leaves, min_child_samples=min_data_in_leaf, max_depth=max_depth))\n",
    "\n",
    "lgb_classifier.fit(X_train, y_train)\n",
    "print(lgb_classifier.best_params_)"
   ],
   "metadata": {
    "collapsed": false,
    "pycharm": {
     "name": "#%%\n"
    }
   }
  },
  {
   "cell_type": "code",
   "execution_count": 34,
   "outputs": [
    {
     "name": "stdout",
     "output_type": "stream",
     "text": [
      "0.7157142857142859\n"
     ]
    }
   ],
   "source": [
    "lgb_tree = lgb.LGBMClassifier(boosting_type='gbdt',  objective='binary', learning_rate=0.01, metric='auc', max_depth=10, min_child_samples=20, num_leaves=10)\n",
    "\n",
    "score = cv_score(lgb_tree, X_train, y_train)\n",
    "print(score)"
   ],
   "metadata": {
    "collapsed": false,
    "pycharm": {
     "name": "#%%\n"
    }
   }
  },
  {
   "cell_type": "code",
   "execution_count": 36,
   "outputs": [
    {
     "name": "stdout",
     "output_type": "stream",
     "text": [
      "              precision    recall  f1-score   support\n",
      "\n",
      "           0       0.66      0.25      0.37        75\n",
      "           1       0.79      0.96      0.87       225\n",
      "\n",
      "    accuracy                           0.78       300\n",
      "   macro avg       0.72      0.60      0.62       300\n",
      "weighted avg       0.76      0.78      0.74       300\n",
      "\n",
      "CatBoost: Final Generalization Accuracy: 0.780000\n"
     ]
    }
   ],
   "source": [
    "lgb_tree.fit(X_train, y_train)\n",
    "y_lgb_pred = lgb_tree.predict(X_test)\n",
    "\n",
    "print(classification_report(y_test, y_lgb_pred))\n",
    "print(\"CatBoost: Final Generalization Accuracy: %.6f\" %accuracy_score(y_test,y_lgb_pred))"
   ],
   "metadata": {
    "collapsed": false,
    "pycharm": {
     "name": "#%%\n"
    }
   }
  },
  {
   "cell_type": "code",
   "execution_count": 37,
   "outputs": [
    {
     "data": {
      "text/plain": "      Classifier     Score\n0  Decision Tree  0.720000\n1  Random Forest  0.793333\n2        XGBoost  0.763333\n3       CatBoost  0.790000\n4       LightGBM  0.786667",
      "text/html": "<div>\n<style scoped>\n    .dataframe tbody tr th:only-of-type {\n        vertical-align: middle;\n    }\n\n    .dataframe tbody tr th {\n        vertical-align: top;\n    }\n\n    .dataframe thead th {\n        text-align: right;\n    }\n</style>\n<table border=\"1\" class=\"dataframe\">\n  <thead>\n    <tr style=\"text-align: right;\">\n      <th></th>\n      <th>Classifier</th>\n      <th>Score</th>\n    </tr>\n  </thead>\n  <tbody>\n    <tr>\n      <th>0</th>\n      <td>Decision Tree</td>\n      <td>0.720000</td>\n    </tr>\n    <tr>\n      <th>1</th>\n      <td>Random Forest</td>\n      <td>0.793333</td>\n    </tr>\n    <tr>\n      <th>2</th>\n      <td>XGBoost</td>\n      <td>0.763333</td>\n    </tr>\n    <tr>\n      <th>3</th>\n      <td>CatBoost</td>\n      <td>0.790000</td>\n    </tr>\n    <tr>\n      <th>4</th>\n      <td>LightGBM</td>\n      <td>0.786667</td>\n    </tr>\n  </tbody>\n</table>\n</div>"
     },
     "execution_count": 37,
     "metadata": {},
     "output_type": "execute_result"
    }
   ],
   "source": [
    "df = pd.DataFrame()\n",
    "df['Classifier'] = ['Decision Tree', 'Random Forest', 'XGBoost', 'CatBoost', 'LightGBM']\n",
    "df['Score'] = [accuracy_score(y_test,y_pred), accuracy_score(y_test,y_r_pred), accuracy_score(y_test, y_xgb_pred), accuracy_score(y_test, y_cat_pred), accuracy_score(y_pred, y_lgb_pred)]\n",
    "df"
   ],
   "metadata": {
    "collapsed": false,
    "pycharm": {
     "name": "#%%\n"
    }
   }
  }
 ],
 "metadata": {
  "kernelspec": {
   "display_name": "Python 3",
   "language": "python",
   "name": "python3"
  },
  "language_info": {
   "codemirror_mode": {
    "name": "ipython",
    "version": 3
   },
   "file_extension": ".py",
   "mimetype": "text/x-python",
   "name": "python",
   "nbconvert_exporter": "python",
   "pygments_lexer": "ipython3",
   "version": "3.6.7"
  }
 },
 "nbformat": 4,
 "nbformat_minor": 2
}